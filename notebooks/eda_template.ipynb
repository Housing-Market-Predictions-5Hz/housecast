{
 "cells": [
  {
   "cell_type": "markdown",
   "id": "99a00844",
   "metadata": {},
   "source": [
    "# 🏡 Housecast EDA Template"
   ]
  },
  {
   "cell_type": "code",
   "execution_count": null,
   "id": "a193b541",
   "metadata": {},
   "outputs": [],
   "source": [
    "# Import basic libraries\n",
    "import pandas as pd\n",
    "import numpy as np\n",
    "import matplotlib.pyplot as plt\n",
    "import seaborn as sns\n",
    "\n",
    "%matplotlib inline\n"
   ]
  },
  {
   "cell_type": "code",
   "execution_count": null,
   "id": "69887fcf",
   "metadata": {},
   "outputs": [],
   "source": [
    "# Load data\n",
    "df = pd.read_csv('../data/raw/sample.csv')  # 파일 경로를 실제에 맞게 수정하세요\n",
    "df.head()\n"
   ]
  },
  {
   "cell_type": "code",
   "execution_count": null,
   "id": "61630574",
   "metadata": {},
   "outputs": [],
   "source": [
    "# Check basic information\n",
    "print(df.info())\n",
    "print(df.describe())\n"
   ]
  },
  {
   "cell_type": "code",
   "execution_count": null,
   "id": "498da274",
   "metadata": {},
   "outputs": [],
   "source": [
    "# Visualize missing values\n",
    "import missingno as msno\n",
    "\n",
    "msno.matrix(df)\n"
   ]
  },
  {
   "cell_type": "code",
   "execution_count": null,
   "id": "0dd0a6dc",
   "metadata": {},
   "outputs": [],
   "source": [
    "# Plot feature distributions\n",
    "for col in df.select_dtypes(include=[np.number]).columns:\n",
    "    sns.histplot(df[col].dropna(), kde=True)\n",
    "    plt.title(f\"Distribution of {col}\")\n",
    "    plt.show()\n"
   ]
  },
  {
   "cell_type": "code",
   "execution_count": null,
   "id": "64bdd00e",
   "metadata": {},
   "outputs": [],
   "source": [
    "# Correlation heatmap\n",
    "plt.figure(figsize=(12,10))\n",
    "sns.heatmap(df.corr(), annot=True, fmt=\".2f\", cmap=\"coolwarm\")\n",
    "plt.title(\"Feature Correlation Heatmap\")\n",
    "plt.show()\n"
   ]
  },
  {
   "cell_type": "markdown",
   "id": "81877fd4",
   "metadata": {},
   "source": [
    "**EDA completed! 🚀 Feel free to customize further.**"
   ]
  }
 ],
 "metadata": {},
 "nbformat": 4,
 "nbformat_minor": 5
}
